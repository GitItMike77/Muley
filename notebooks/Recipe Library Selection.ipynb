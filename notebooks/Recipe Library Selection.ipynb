{
 "cells": [
  {
   "cell_type": "markdown",
   "metadata": {},
   "source": [
    "# Recipe Library Selection\n",
    "\n"
   ]
  },
  {
   "cell_type": "code",
   "execution_count": null,
   "metadata": {},
   "outputs": [],
   "source": [
    "2+2"
   ]
  },
  {
   "cell_type": "code",
   "execution_count": null,
   "metadata": {},
   "outputs": [
    {
     "name": "stderr",
     "output_type": "stream",
     "text": [
      "2024-01-20 18:08:06.293600: I tensorflow/core/platform/cpu_feature_guard.cc:182] This TensorFlow binary is optimized to use available CPU instructions in performance-critical operations.\n",
      "To enable the following instructions: AVX2 FMA, in other operations, rebuild TensorFlow with the appropriate compiler flags.\n",
      "2024-01-20 18:08:07.265856: W tensorflow/compiler/tf2tensorrt/utils/py_utils.cc:38] TF-TRT Warning: Could not find TensorRT\n"
     ]
    }
   ],
   "source": [
    "import pandas as pd\n",
    "import matplotlib.pyplot as plt\n",
    "import numpy as np\n",
    "import ast\n",
    "from sentence_transformers import SentenceTransformer"
   ]
  },
  {
   "cell_type": "code",
   "execution_count": null,
   "metadata": {},
   "outputs": [
    {
     "data": {
      "text/html": [
       "<div>\n",
       "<style scoped>\n",
       "    .dataframe tbody tr th:only-of-type {\n",
       "        vertical-align: middle;\n",
       "    }\n",
       "\n",
       "    .dataframe tbody tr th {\n",
       "        vertical-align: top;\n",
       "    }\n",
       "\n",
       "    .dataframe thead th {\n",
       "        text-align: right;\n",
       "    }\n",
       "</style>\n",
       "<table border=\"1\" class=\"dataframe\">\n",
       "  <thead>\n",
       "    <tr style=\"text-align: right;\">\n",
       "      <th></th>\n",
       "      <th>name</th>\n",
       "      <th>id</th>\n",
       "      <th>minutes</th>\n",
       "      <th>contributor_id</th>\n",
       "      <th>submitted</th>\n",
       "      <th>tags</th>\n",
       "      <th>nutrition</th>\n",
       "      <th>n_steps</th>\n",
       "      <th>steps</th>\n",
       "      <th>description</th>\n",
       "      <th>ingredients</th>\n",
       "      <th>n_ingredients</th>\n",
       "    </tr>\n",
       "  </thead>\n",
       "  <tbody>\n",
       "    <tr>\n",
       "      <th>0</th>\n",
       "      <td>arriba   baked winter squash mexican style</td>\n",
       "      <td>137739</td>\n",
       "      <td>55</td>\n",
       "      <td>47892</td>\n",
       "      <td>2005-09-16</td>\n",
       "      <td>['60-minutes-or-less', 'time-to-make', 'course...</td>\n",
       "      <td>[51.5, 0.0, 13.0, 0.0, 2.0, 0.0, 4.0]</td>\n",
       "      <td>11</td>\n",
       "      <td>['make a choice and proceed with recipe', 'dep...</td>\n",
       "      <td>autumn is my favorite time of year to cook! th...</td>\n",
       "      <td>['winter squash', 'mexican seasoning', 'mixed ...</td>\n",
       "      <td>7</td>\n",
       "    </tr>\n",
       "    <tr>\n",
       "      <th>1</th>\n",
       "      <td>a bit different  breakfast pizza</td>\n",
       "      <td>31490</td>\n",
       "      <td>30</td>\n",
       "      <td>26278</td>\n",
       "      <td>2002-06-17</td>\n",
       "      <td>['30-minutes-or-less', 'time-to-make', 'course...</td>\n",
       "      <td>[173.4, 18.0, 0.0, 17.0, 22.0, 35.0, 1.0]</td>\n",
       "      <td>9</td>\n",
       "      <td>['preheat oven to 425 degrees f', 'press dough...</td>\n",
       "      <td>this recipe calls for the crust to be prebaked...</td>\n",
       "      <td>['prepared pizza crust', 'sausage patty', 'egg...</td>\n",
       "      <td>6</td>\n",
       "    </tr>\n",
       "    <tr>\n",
       "      <th>2</th>\n",
       "      <td>all in the kitchen  chili</td>\n",
       "      <td>112140</td>\n",
       "      <td>130</td>\n",
       "      <td>196586</td>\n",
       "      <td>2005-02-25</td>\n",
       "      <td>['time-to-make', 'course', 'preparation', 'mai...</td>\n",
       "      <td>[269.8, 22.0, 32.0, 48.0, 39.0, 27.0, 5.0]</td>\n",
       "      <td>6</td>\n",
       "      <td>['brown ground beef in large pot', 'add choppe...</td>\n",
       "      <td>this modified version of 'mom's' chili was a h...</td>\n",
       "      <td>['ground beef', 'yellow onions', 'diced tomato...</td>\n",
       "      <td>13</td>\n",
       "    </tr>\n",
       "    <tr>\n",
       "      <th>3</th>\n",
       "      <td>alouette  potatoes</td>\n",
       "      <td>59389</td>\n",
       "      <td>45</td>\n",
       "      <td>68585</td>\n",
       "      <td>2003-04-14</td>\n",
       "      <td>['60-minutes-or-less', 'time-to-make', 'course...</td>\n",
       "      <td>[368.1, 17.0, 10.0, 2.0, 14.0, 8.0, 20.0]</td>\n",
       "      <td>11</td>\n",
       "      <td>['place potatoes in a large pot of lightly sal...</td>\n",
       "      <td>this is a super easy, great tasting, make ahea...</td>\n",
       "      <td>['spreadable cheese with garlic and herbs', 'n...</td>\n",
       "      <td>11</td>\n",
       "    </tr>\n",
       "    <tr>\n",
       "      <th>4</th>\n",
       "      <td>amish  tomato ketchup  for canning</td>\n",
       "      <td>44061</td>\n",
       "      <td>190</td>\n",
       "      <td>41706</td>\n",
       "      <td>2002-10-25</td>\n",
       "      <td>['weeknight', 'time-to-make', 'course', 'main-...</td>\n",
       "      <td>[352.9, 1.0, 337.0, 23.0, 3.0, 0.0, 28.0]</td>\n",
       "      <td>5</td>\n",
       "      <td>['mix all ingredients&amp; boil for 2 1 / 2 hours ...</td>\n",
       "      <td>my dh's amish mother raised him on this recipe...</td>\n",
       "      <td>['tomato juice', 'apple cider vinegar', 'sugar...</td>\n",
       "      <td>8</td>\n",
       "    </tr>\n",
       "    <tr>\n",
       "      <th>...</th>\n",
       "      <td>...</td>\n",
       "      <td>...</td>\n",
       "      <td>...</td>\n",
       "      <td>...</td>\n",
       "      <td>...</td>\n",
       "      <td>...</td>\n",
       "      <td>...</td>\n",
       "      <td>...</td>\n",
       "      <td>...</td>\n",
       "      <td>...</td>\n",
       "      <td>...</td>\n",
       "      <td>...</td>\n",
       "    </tr>\n",
       "    <tr>\n",
       "      <th>231632</th>\n",
       "      <td>zydeco soup</td>\n",
       "      <td>486161</td>\n",
       "      <td>60</td>\n",
       "      <td>227978</td>\n",
       "      <td>2012-08-29</td>\n",
       "      <td>['ham', '60-minutes-or-less', 'time-to-make', ...</td>\n",
       "      <td>[415.2, 26.0, 34.0, 26.0, 44.0, 21.0, 15.0]</td>\n",
       "      <td>7</td>\n",
       "      <td>['heat oil in a 4-quart dutch oven', 'add cele...</td>\n",
       "      <td>this is a delicious soup that i originally fou...</td>\n",
       "      <td>['celery', 'onion', 'green sweet pepper', 'gar...</td>\n",
       "      <td>22</td>\n",
       "    </tr>\n",
       "    <tr>\n",
       "      <th>231633</th>\n",
       "      <td>zydeco spice mix</td>\n",
       "      <td>493372</td>\n",
       "      <td>5</td>\n",
       "      <td>1500678</td>\n",
       "      <td>2013-01-09</td>\n",
       "      <td>['15-minutes-or-less', 'time-to-make', 'course...</td>\n",
       "      <td>[14.8, 0.0, 2.0, 58.0, 1.0, 0.0, 1.0]</td>\n",
       "      <td>1</td>\n",
       "      <td>['mix all ingredients together thoroughly']</td>\n",
       "      <td>this spice mix will make your taste buds dance!</td>\n",
       "      <td>['paprika', 'salt', 'garlic powder', 'onion po...</td>\n",
       "      <td>13</td>\n",
       "    </tr>\n",
       "    <tr>\n",
       "      <th>231634</th>\n",
       "      <td>zydeco ya ya deviled eggs</td>\n",
       "      <td>308080</td>\n",
       "      <td>40</td>\n",
       "      <td>37779</td>\n",
       "      <td>2008-06-07</td>\n",
       "      <td>['60-minutes-or-less', 'time-to-make', 'course...</td>\n",
       "      <td>[59.2, 6.0, 2.0, 3.0, 6.0, 5.0, 0.0]</td>\n",
       "      <td>7</td>\n",
       "      <td>['in a bowl , combine the mashed yolks and may...</td>\n",
       "      <td>deviled eggs, cajun-style</td>\n",
       "      <td>['hard-cooked eggs', 'mayonnaise', 'dijon must...</td>\n",
       "      <td>8</td>\n",
       "    </tr>\n",
       "    <tr>\n",
       "      <th>231635</th>\n",
       "      <td>cookies by design   cookies on a stick</td>\n",
       "      <td>298512</td>\n",
       "      <td>29</td>\n",
       "      <td>506822</td>\n",
       "      <td>2008-04-15</td>\n",
       "      <td>['30-minutes-or-less', 'time-to-make', 'course...</td>\n",
       "      <td>[188.0, 11.0, 57.0, 11.0, 7.0, 21.0, 9.0]</td>\n",
       "      <td>9</td>\n",
       "      <td>['place melted butter in a large mixing bowl a...</td>\n",
       "      <td>i've heard of the 'cookies by design' company,...</td>\n",
       "      <td>['butter', 'eagle brand condensed milk', 'ligh...</td>\n",
       "      <td>10</td>\n",
       "    </tr>\n",
       "    <tr>\n",
       "      <th>231636</th>\n",
       "      <td>cookies by design   sugar shortbread cookies</td>\n",
       "      <td>298509</td>\n",
       "      <td>20</td>\n",
       "      <td>506822</td>\n",
       "      <td>2008-04-15</td>\n",
       "      <td>['30-minutes-or-less', 'time-to-make', 'course...</td>\n",
       "      <td>[174.9, 14.0, 33.0, 4.0, 4.0, 11.0, 6.0]</td>\n",
       "      <td>5</td>\n",
       "      <td>['whip sugar and shortening in a large bowl , ...</td>\n",
       "      <td>i've heard of the 'cookies by design' company,...</td>\n",
       "      <td>['granulated sugar', 'shortening', 'eggs', 'fl...</td>\n",
       "      <td>7</td>\n",
       "    </tr>\n",
       "  </tbody>\n",
       "</table>\n",
       "<p>231637 rows × 12 columns</p>\n",
       "</div>"
      ],
      "text/plain": [
       "                                                name      id  minutes  \\\n",
       "0         arriba   baked winter squash mexican style  137739       55   \n",
       "1                   a bit different  breakfast pizza   31490       30   \n",
       "2                          all in the kitchen  chili  112140      130   \n",
       "3                                 alouette  potatoes   59389       45   \n",
       "4                 amish  tomato ketchup  for canning   44061      190   \n",
       "...                                              ...     ...      ...   \n",
       "231632                                   zydeco soup  486161       60   \n",
       "231633                              zydeco spice mix  493372        5   \n",
       "231634                     zydeco ya ya deviled eggs  308080       40   \n",
       "231635        cookies by design   cookies on a stick  298512       29   \n",
       "231636  cookies by design   sugar shortbread cookies  298509       20   \n",
       "\n",
       "        contributor_id   submitted  \\\n",
       "0                47892  2005-09-16   \n",
       "1                26278  2002-06-17   \n",
       "2               196586  2005-02-25   \n",
       "3                68585  2003-04-14   \n",
       "4                41706  2002-10-25   \n",
       "...                ...         ...   \n",
       "231632          227978  2012-08-29   \n",
       "231633         1500678  2013-01-09   \n",
       "231634           37779  2008-06-07   \n",
       "231635          506822  2008-04-15   \n",
       "231636          506822  2008-04-15   \n",
       "\n",
       "                                                     tags  \\\n",
       "0       ['60-minutes-or-less', 'time-to-make', 'course...   \n",
       "1       ['30-minutes-or-less', 'time-to-make', 'course...   \n",
       "2       ['time-to-make', 'course', 'preparation', 'mai...   \n",
       "3       ['60-minutes-or-less', 'time-to-make', 'course...   \n",
       "4       ['weeknight', 'time-to-make', 'course', 'main-...   \n",
       "...                                                   ...   \n",
       "231632  ['ham', '60-minutes-or-less', 'time-to-make', ...   \n",
       "231633  ['15-minutes-or-less', 'time-to-make', 'course...   \n",
       "231634  ['60-minutes-or-less', 'time-to-make', 'course...   \n",
       "231635  ['30-minutes-or-less', 'time-to-make', 'course...   \n",
       "231636  ['30-minutes-or-less', 'time-to-make', 'course...   \n",
       "\n",
       "                                          nutrition  n_steps  \\\n",
       "0             [51.5, 0.0, 13.0, 0.0, 2.0, 0.0, 4.0]       11   \n",
       "1         [173.4, 18.0, 0.0, 17.0, 22.0, 35.0, 1.0]        9   \n",
       "2        [269.8, 22.0, 32.0, 48.0, 39.0, 27.0, 5.0]        6   \n",
       "3         [368.1, 17.0, 10.0, 2.0, 14.0, 8.0, 20.0]       11   \n",
       "4         [352.9, 1.0, 337.0, 23.0, 3.0, 0.0, 28.0]        5   \n",
       "...                                             ...      ...   \n",
       "231632  [415.2, 26.0, 34.0, 26.0, 44.0, 21.0, 15.0]        7   \n",
       "231633        [14.8, 0.0, 2.0, 58.0, 1.0, 0.0, 1.0]        1   \n",
       "231634         [59.2, 6.0, 2.0, 3.0, 6.0, 5.0, 0.0]        7   \n",
       "231635    [188.0, 11.0, 57.0, 11.0, 7.0, 21.0, 9.0]        9   \n",
       "231636     [174.9, 14.0, 33.0, 4.0, 4.0, 11.0, 6.0]        5   \n",
       "\n",
       "                                                    steps  \\\n",
       "0       ['make a choice and proceed with recipe', 'dep...   \n",
       "1       ['preheat oven to 425 degrees f', 'press dough...   \n",
       "2       ['brown ground beef in large pot', 'add choppe...   \n",
       "3       ['place potatoes in a large pot of lightly sal...   \n",
       "4       ['mix all ingredients& boil for 2 1 / 2 hours ...   \n",
       "...                                                   ...   \n",
       "231632  ['heat oil in a 4-quart dutch oven', 'add cele...   \n",
       "231633        ['mix all ingredients together thoroughly']   \n",
       "231634  ['in a bowl , combine the mashed yolks and may...   \n",
       "231635  ['place melted butter in a large mixing bowl a...   \n",
       "231636  ['whip sugar and shortening in a large bowl , ...   \n",
       "\n",
       "                                              description  \\\n",
       "0       autumn is my favorite time of year to cook! th...   \n",
       "1       this recipe calls for the crust to be prebaked...   \n",
       "2       this modified version of 'mom's' chili was a h...   \n",
       "3       this is a super easy, great tasting, make ahea...   \n",
       "4       my dh's amish mother raised him on this recipe...   \n",
       "...                                                   ...   \n",
       "231632  this is a delicious soup that i originally fou...   \n",
       "231633    this spice mix will make your taste buds dance!   \n",
       "231634                          deviled eggs, cajun-style   \n",
       "231635  i've heard of the 'cookies by design' company,...   \n",
       "231636  i've heard of the 'cookies by design' company,...   \n",
       "\n",
       "                                              ingredients  n_ingredients  \n",
       "0       ['winter squash', 'mexican seasoning', 'mixed ...              7  \n",
       "1       ['prepared pizza crust', 'sausage patty', 'egg...              6  \n",
       "2       ['ground beef', 'yellow onions', 'diced tomato...             13  \n",
       "3       ['spreadable cheese with garlic and herbs', 'n...             11  \n",
       "4       ['tomato juice', 'apple cider vinegar', 'sugar...              8  \n",
       "...                                                   ...            ...  \n",
       "231632  ['celery', 'onion', 'green sweet pepper', 'gar...             22  \n",
       "231633  ['paprika', 'salt', 'garlic powder', 'onion po...             13  \n",
       "231634  ['hard-cooked eggs', 'mayonnaise', 'dijon must...              8  \n",
       "231635  ['butter', 'eagle brand condensed milk', 'ligh...             10  \n",
       "231636  ['granulated sugar', 'shortening', 'eggs', 'fl...              7  \n",
       "\n",
       "[231637 rows x 12 columns]"
      ]
     },
     "execution_count": 27,
     "metadata": {},
     "output_type": "execute_result"
    }
   ],
   "source": [
    "data = pd.read_csv(\"/media/michael/Delta/Data/Data_Science_Masters/MSDS_498/RAW_recipes.csv\")#, nrows=10000)\n",
    "data"
   ]
  },
  {
   "cell_type": "code",
   "execution_count": null,
   "metadata": {},
   "outputs": [],
   "source": [
    "def list_and_join(x):\n",
    "    return \". \".join(ast.literal_eval(x))\n",
    "\n",
    "data['steps_text'] = data['steps'].apply(lambda x:  \". \".join(ast.literal_eval(x)))\n",
    "data['ingredients_text'] = data['ingredients'].apply(lambda x:  \", \".join(ast.literal_eval(x)))\n",
    "\n",
    "data"
   ]
  },
  {
   "cell_type": "code",
   "execution_count": null,
   "metadata": {},
   "outputs": [
    {
     "data": {
      "application/vnd.jupyter.widget-view+json": {
       "model_id": "b1913042c8264d5fb9364d6959524f28",
       "version_major": 2,
       "version_minor": 0
      },
      "text/plain": [
       "Downloading .gitattributes:   0%|          | 0.00/1.18k [00:00<?, ?B/s]"
      ]
     },
     "metadata": {},
     "output_type": "display_data"
    },
    {
     "data": {
      "application/vnd.jupyter.widget-view+json": {
       "model_id": "232de4fcd2a44b6c97b9845ad71dcb51",
       "version_major": 2,
       "version_minor": 0
      },
      "text/plain": [
       "Downloading 1_Pooling/config.json:   0%|          | 0.00/190 [00:00<?, ?B/s]"
      ]
     },
     "metadata": {},
     "output_type": "display_data"
    },
    {
     "data": {
      "application/vnd.jupyter.widget-view+json": {
       "model_id": "c29454cff1ee4eaab025f7e3b6db72a9",
       "version_major": 2,
       "version_minor": 0
      },
      "text/plain": [
       "Downloading README.md:   0%|          | 0.00/10.6k [00:00<?, ?B/s]"
      ]
     },
     "metadata": {},
     "output_type": "display_data"
    },
    {
     "data": {
      "application/vnd.jupyter.widget-view+json": {
       "model_id": "50872b8035624295a8e221e0614d1dfe",
       "version_major": 2,
       "version_minor": 0
      },
      "text/plain": [
       "Downloading config.json:   0%|          | 0.00/612 [00:00<?, ?B/s]"
      ]
     },
     "metadata": {},
     "output_type": "display_data"
    },
    {
     "data": {
      "application/vnd.jupyter.widget-view+json": {
       "model_id": "1b08e703cd10417fbf3b7fc01d71d6ca",
       "version_major": 2,
       "version_minor": 0
      },
      "text/plain": [
       "Downloading (…)ce_transformers.json:   0%|          | 0.00/116 [00:00<?, ?B/s]"
      ]
     },
     "metadata": {},
     "output_type": "display_data"
    },
    {
     "data": {
      "application/vnd.jupyter.widget-view+json": {
       "model_id": "ce0e4f72955c482eaa498b1523e49f5d",
       "version_major": 2,
       "version_minor": 0
      },
      "text/plain": [
       "Downloading data_config.json:   0%|          | 0.00/39.3k [00:00<?, ?B/s]"
      ]
     },
     "metadata": {},
     "output_type": "display_data"
    },
    {
     "data": {
      "application/vnd.jupyter.widget-view+json": {
       "model_id": "4b7779190c20402cb17c6538d0f9125a",
       "version_major": 2,
       "version_minor": 0
      },
      "text/plain": [
       "Downloading pytorch_model.bin:   0%|          | 0.00/90.9M [00:00<?, ?B/s]"
      ]
     },
     "metadata": {},
     "output_type": "display_data"
    },
    {
     "data": {
      "application/vnd.jupyter.widget-view+json": {
       "model_id": "16ea2596c3cc40e593091893b1c2583a",
       "version_major": 2,
       "version_minor": 0
      },
      "text/plain": [
       "Downloading (…)nce_bert_config.json:   0%|          | 0.00/53.0 [00:00<?, ?B/s]"
      ]
     },
     "metadata": {},
     "output_type": "display_data"
    },
    {
     "data": {
      "application/vnd.jupyter.widget-view+json": {
       "model_id": "2c30e68dc1264dc9957c597751b6f507",
       "version_major": 2,
       "version_minor": 0
      },
      "text/plain": [
       "Downloading (…)cial_tokens_map.json:   0%|          | 0.00/112 [00:00<?, ?B/s]"
      ]
     },
     "metadata": {},
     "output_type": "display_data"
    },
    {
     "data": {
      "application/vnd.jupyter.widget-view+json": {
       "model_id": "55901e45d1314cbcb3952fb95ac09643",
       "version_major": 2,
       "version_minor": 0
      },
      "text/plain": [
       "Downloading tokenizer.json:   0%|          | 0.00/466k [00:00<?, ?B/s]"
      ]
     },
     "metadata": {},
     "output_type": "display_data"
    },
    {
     "data": {
      "application/vnd.jupyter.widget-view+json": {
       "model_id": "70c3e0ecf70044569a43be6c711e3f66",
       "version_major": 2,
       "version_minor": 0
      },
      "text/plain": [
       "Downloading tokenizer_config.json:   0%|          | 0.00/350 [00:00<?, ?B/s]"
      ]
     },
     "metadata": {},
     "output_type": "display_data"
    },
    {
     "data": {
      "application/vnd.jupyter.widget-view+json": {
       "model_id": "685e327836ee445ba4b9108e6e99ced0",
       "version_major": 2,
       "version_minor": 0
      },
      "text/plain": [
       "Downloading train_script.py:   0%|          | 0.00/13.2k [00:00<?, ?B/s]"
      ]
     },
     "metadata": {},
     "output_type": "display_data"
    },
    {
     "data": {
      "application/vnd.jupyter.widget-view+json": {
       "model_id": "7ddb8d3c585f455c91f1e9782ae3f548",
       "version_major": 2,
       "version_minor": 0
      },
      "text/plain": [
       "Downloading vocab.txt:   0%|          | 0.00/232k [00:00<?, ?B/s]"
      ]
     },
     "metadata": {},
     "output_type": "display_data"
    },
    {
     "data": {
      "application/vnd.jupyter.widget-view+json": {
       "model_id": "a5e98cde733846c7a378f1ce92d8be1f",
       "version_major": 2,
       "version_minor": 0
      },
      "text/plain": [
       "Downloading modules.json:   0%|          | 0.00/349 [00:00<?, ?B/s]"
      ]
     },
     "metadata": {},
     "output_type": "display_data"
    },
    {
     "data": {
      "text/plain": [
       "array([ 3.09631806e-02,  8.72944519e-02, -5.64093255e-02,  8.05289298e-02,\n",
       "       -4.75090416e-03, -2.04722732e-02,  8.10075626e-02,  7.88783953e-02,\n",
       "        9.04775970e-03,  2.22223569e-02,  1.09070972e-01, -5.55097982e-02,\n",
       "        4.01889011e-02, -2.22596433e-03, -3.93771520e-03, -3.06807794e-02,\n",
       "        5.14924526e-03, -6.86752200e-02, -7.40809515e-02,  3.30110379e-02,\n",
       "        4.62876037e-02,  7.29548112e-02, -3.18028554e-02,  1.69491023e-02,\n",
       "        8.45212676e-03,  5.61081134e-02, -7.51424581e-02,  3.95120904e-02,\n",
       "        6.19688295e-02, -5.63232927e-04, -1.04085043e-01,  6.01712093e-02,\n",
       "        1.03489295e-01,  3.84210199e-02,  5.68452999e-02,  5.19333081e-03,\n",
       "        2.18535215e-02,  6.30562659e-03,  1.78521462e-02,  3.55907418e-02,\n",
       "       -1.98142529e-02, -1.46455690e-01,  7.68480599e-02,  2.59543117e-02,\n",
       "        4.93709669e-02, -7.33580720e-03, -4.60028723e-02,  2.04329100e-02,\n",
       "        4.08551209e-02,  1.13568967e-03, -5.56193888e-02, -4.02339995e-02,\n",
       "       -1.10892624e-01, -3.24280038e-02,  2.03010067e-02,  5.56137823e-02,\n",
       "        1.74839757e-02, -3.20391580e-02,  3.11828926e-02,  1.50191281e-02,\n",
       "        2.82515921e-02,  1.96934659e-02, -5.22663407e-02,  5.67956306e-02,\n",
       "        9.71694961e-02, -1.18876696e-02, -2.42145341e-02, -4.65414524e-02,\n",
       "       -1.05664179e-01,  1.40639590e-02, -1.74591262e-02,  2.90368814e-02,\n",
       "        3.86007763e-02,  7.76297897e-02,  7.91931618e-03, -1.55610777e-02,\n",
       "       -6.15556054e-02, -7.60420859e-02,  7.85815120e-02,  2.78719477e-02,\n",
       "       -9.74496752e-02, -4.78064939e-02,  6.44395780e-03,  7.27693588e-02,\n",
       "        1.72324933e-03,  6.63126633e-02,  6.18131049e-02, -7.70892389e-03,\n",
       "       -4.36458550e-02,  4.09912318e-03,  3.44257951e-02, -2.54832823e-02,\n",
       "        3.08489222e-02, -1.90460812e-02, -6.41533062e-02,  6.39781356e-02,\n",
       "       -5.28848767e-02, -7.43258074e-02,  2.15116404e-02,  9.71316174e-02,\n",
       "        2.33470909e-02,  2.60676667e-02, -3.01871654e-02,  2.61800401e-02,\n",
       "       -1.75872773e-01, -7.80391470e-02,  7.26641789e-02, -7.59114996e-02,\n",
       "        5.62103093e-02,  3.62801226e-03, -2.66288221e-02, -6.38192892e-02,\n",
       "       -5.82368299e-02, -4.62899654e-04,  4.25964668e-02, -4.02286611e-02,\n",
       "       -7.36269355e-02,  2.27483548e-03, -3.06577422e-02,  3.22120674e-02,\n",
       "        2.65704170e-02,  7.66425207e-03, -8.46668258e-02, -6.68897387e-03,\n",
       "       -8.38087723e-02, -9.50497948e-03,  7.24625066e-02, -5.58286752e-33,\n",
       "       -4.03613336e-02, -1.11905979e-02,  1.12418076e-02,  1.16292506e-01,\n",
       "        9.22082085e-03, -1.13771064e-02, -9.58647281e-02,  1.47376824e-02,\n",
       "       -2.38560475e-02, -4.74024490e-02,  1.11457324e-02, -7.29378611e-02,\n",
       "        2.45484114e-02,  1.55887436e-02, -1.68080512e-03,  1.55764772e-03,\n",
       "       -3.16481479e-02,  3.29575390e-02, -1.26843881e-02, -1.16545623e-02,\n",
       "       -3.34898606e-02,  7.21975975e-03, -1.19428113e-02, -7.68611580e-02,\n",
       "       -8.24597776e-02, -2.32484229e-02, -1.23837264e-02, -3.33119631e-02,\n",
       "       -3.32877301e-02,  2.55752169e-02,  4.57870401e-03, -2.67334674e-02,\n",
       "        1.40490364e-02,  5.01502119e-02,  3.09303515e-02,  4.82546538e-02,\n",
       "        2.23515928e-02, -5.46905287e-02, -3.70141789e-02,  1.74210966e-02,\n",
       "       -5.99401332e-02, -2.43366677e-02,  2.78825480e-02, -3.62864472e-02,\n",
       "        1.58624575e-01,  1.22494167e-02, -2.43903250e-02, -1.93173997e-02,\n",
       "       -7.93949759e-04,  1.11317290e-02, -2.79939324e-02,  5.29167466e-02,\n",
       "        3.54525335e-02, -4.66289278e-03,  1.65323839e-02,  2.44369712e-02,\n",
       "        3.03631872e-02,  3.68215665e-02, -4.98851128e-02,  4.87165116e-02,\n",
       "       -1.88604426e-02,  2.19473168e-02,  2.16394104e-02,  3.86560857e-02,\n",
       "       -2.53482559e-03, -2.22232882e-02, -9.65921879e-02, -1.20615900e-01,\n",
       "        7.38311931e-02,  1.00059453e-02, -4.66092080e-02, -4.29751389e-02,\n",
       "       -3.85310613e-02,  7.50328675e-02, -3.38175595e-02, -5.58828712e-02,\n",
       "       -3.01102921e-02,  2.85557006e-02, -4.01999466e-02, -2.22202614e-02,\n",
       "        4.12205327e-03, -1.08802110e-01, -6.03238470e-04, -6.13897741e-02,\n",
       "       -6.76003471e-02, -7.52002327e-03,  3.24751511e-02, -1.29284993e-01,\n",
       "        7.65825808e-02, -1.11762751e-02, -8.86905938e-02, -2.56783143e-03,\n",
       "       -2.85884589e-02, -3.91471274e-02,  5.76002114e-02,  2.77694543e-33,\n",
       "       -5.75031601e-02,  8.90261382e-02, -8.35794434e-02,  2.28222683e-02,\n",
       "        6.61929622e-02,  2.14657597e-02,  1.15200862e-01,  1.05752638e-02,\n",
       "       -1.37416217e-02,  8.44508484e-02,  2.25492958e-02,  3.85156460e-02,\n",
       "       -3.16124931e-02, -6.79176897e-02,  4.02698815e-02,  5.83531847e-03,\n",
       "        6.69954792e-02, -1.15323039e-02, -4.57051350e-03, -1.78970024e-02,\n",
       "       -8.47523138e-02,  9.60154012e-02, -4.08210754e-02,  3.38581763e-02,\n",
       "       -1.29144778e-03,  1.05504487e-02,  2.47418415e-02, -3.46109979e-02,\n",
       "        9.71206836e-03, -2.48210095e-02, -9.43274517e-03,  2.44516078e-02,\n",
       "       -3.80580276e-02,  3.98732536e-02, -1.37644156e-03, -4.96717803e-02,\n",
       "        1.14530742e-01, -5.60077988e-02, -3.64168473e-02,  7.28721358e-03,\n",
       "        4.56460714e-02,  5.12769930e-02,  1.91013590e-02,  6.82235137e-02,\n",
       "       -1.39090791e-02,  4.81846295e-02, -1.05795753e-03, -1.06623195e-01,\n",
       "        2.80978670e-03,  8.77144262e-02, -1.46147097e-02, -8.04243311e-02,\n",
       "       -3.73005830e-02, -4.11339744e-04, -2.96206251e-02,  2.27334257e-02,\n",
       "       -9.62714292e-03,  1.12577360e-02, -3.82431448e-02, -8.72381590e-03,\n",
       "       -3.46650667e-02,  4.31319661e-02,  5.45532890e-02,  5.15705682e-02,\n",
       "        3.34402286e-02, -1.05741166e-01, -7.36292154e-02,  6.02526665e-02,\n",
       "       -1.19591756e-02, -2.35040691e-02,  5.54743297e-02,  3.79643366e-02,\n",
       "       -1.09031186e-01, -6.14023283e-02, -9.34950914e-03, -5.96879050e-02,\n",
       "        1.13825239e-02,  6.77977316e-03, -4.11170051e-02,  4.80755465e-03,\n",
       "        7.48903975e-02,  1.46531155e-02, -2.96720341e-02,  2.51817051e-02,\n",
       "       -5.40047847e-02,  3.24245691e-02,  2.67827860e-03,  7.90360421e-02,\n",
       "       -1.06118275e-02, -7.14870263e-03, -1.92981027e-02,  4.41212989e-02,\n",
       "        1.00909472e-02,  3.38578038e-02, -9.46652610e-03, -1.77870199e-08,\n",
       "        1.56348888e-02, -2.70667672e-02,  9.52657312e-04,  4.79356311e-02,\n",
       "       -3.43810618e-02,  6.10295162e-02,  2.69035902e-02, -8.12455118e-02,\n",
       "       -4.70821857e-02, -2.71320879e-03,  2.50290539e-02,  5.80647960e-02,\n",
       "       -6.71222731e-02, -1.60329062e-02,  4.44721095e-02, -4.36209477e-02,\n",
       "       -1.88194159e-02, -2.85273101e-02, -9.32125468e-03, -1.76896714e-02,\n",
       "       -2.15244628e-02,  4.79504131e-02,  3.47918272e-02,  7.40220677e-03,\n",
       "       -2.63645854e-02,  7.23268688e-02,  2.95699928e-02,  9.02367234e-02,\n",
       "       -1.88769046e-02,  5.06790541e-03,  1.22146659e-01,  5.22295274e-02,\n",
       "       -1.18966335e-02, -6.56910464e-02, -4.19025458e-02,  7.09220842e-02,\n",
       "        7.85249174e-02,  1.77645832e-02,  8.56082588e-02,  7.03940317e-02,\n",
       "       -4.79573980e-02,  1.86437909e-02, -9.56032425e-03,  2.26246808e-02,\n",
       "       -4.89285029e-03, -3.80088203e-02, -1.69740412e-02, -5.79270683e-02,\n",
       "       -2.37340797e-02, -1.03525758e-01, -3.26936506e-02,  1.47742033e-03,\n",
       "        2.20595505e-02, -2.63386909e-02, -1.96040086e-02, -1.61832534e-02,\n",
       "        6.00269772e-02,  3.70868407e-02, -9.04416814e-02,  5.35813943e-02,\n",
       "        1.22819655e-01,  1.04181364e-01,  7.46954158e-02, -5.92166148e-02],\n",
       "      dtype=float32)"
      ]
     },
     "execution_count": 57,
     "metadata": {},
     "output_type": "execute_result"
    }
   ],
   "source": [
    "model = SentenceTransformer('all-MiniLM-L6-v2')\n",
    "\n",
    "k = model.encode(\"This is my test text\")"
   ]
  }
 ],
 "metadata": {
  "kernelspec": {
   "display_name": "Python 3 (ipykernel)",
   "language": "python",
   "name": "python3"
  },
  "language_info": {
   "codemirror_mode": {
    "name": "ipython",
    "version": 3
   },
   "file_extension": ".py",
   "mimetype": "text/x-python",
   "name": "python",
   "nbconvert_exporter": "python",
   "pygments_lexer": "ipython3",
   "version": "3.8.16"
  }
 },
 "nbformat": 4,
 "nbformat_minor": 2
}
